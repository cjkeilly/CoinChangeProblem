{
 "cells": [
  {
   "cell_type": "markdown",
   "id": "5bbdc0f7",
   "metadata": {},
   "source": [
    "<h1>Coin Change Problem</h1>"
   ]
  },
  {
   "cell_type": "markdown",
   "id": "99425099",
   "metadata": {},
   "source": [
    "<h3>All code taken from https://www.geeksforgeeks.org/coin-change-dp-7/</h3>"
   ]
  },
  {
   "cell_type": "markdown",
   "id": "43cd3c64",
   "metadata": {},
   "source": [
    "<h2>Recursive Approach</h2>"
   ]
  },
  {
   "cell_type": "code",
   "execution_count": 1,
   "id": "9e25c92e",
   "metadata": {},
   "outputs": [
    {
     "name": "stdout",
     "output_type": "stream",
     "text": [
      "4\n"
     ]
    }
   ],
   "source": [
    "# Recursive Python3 program for\n",
    "# coin change problem.\n",
    "\n",
    "# Returns the count of ways we can sum\n",
    "# S[0...m-1] coins to get sum n\n",
    "def count(S, m, n ):\n",
    "\n",
    "\t# If n is 0 then there is 1\n",
    "\t# solution (do not include any coin)\n",
    "\tif (n == 0):\n",
    "\t\treturn 1\n",
    "\n",
    "\t# If n is less than 0 then no\n",
    "\t# solution exists\n",
    "\tif (n < 0):\n",
    "\t\treturn 0;\n",
    "\n",
    "\t# If there are no coins and n\n",
    "\t# is greater than 0, then no\n",
    "\t# solution exist\n",
    "\tif (m <=0 and n >= 1):\n",
    "\t\treturn 0\n",
    "\n",
    "\t# count is sum of solutions (i)\n",
    "\t# including S[m-1] (ii) excluding S[m-1]\n",
    "\treturn count( S, m - 1, n ) + count( S, m, n-S[m-1] );\n",
    "\n",
    "# Driver program to test above function\n",
    "arr = [1, 2, 3]\n",
    "m = len(arr)\n",
    "print(count(arr, m, 4))\n",
    "\n",
    "# This code is contributed by Smitha Dinesh Semwal"
   ]
  },
  {
   "cell_type": "markdown",
   "id": "5e0c2f9f",
   "metadata": {},
   "source": [
    "<h2>Dynamic Programming Approach</h2>"
   ]
  },
  {
   "cell_type": "code",
   "execution_count": 2,
   "id": "1f18018d",
   "metadata": {},
   "outputs": [
    {
     "name": "stdout",
     "output_type": "stream",
     "text": [
      "4\n"
     ]
    }
   ],
   "source": [
    "# Dynamic Programming Python implementation of Coin\n",
    "# Change problem\n",
    "def count(S, m, n):\n",
    "\t# We need n+1 rows as the table is constructed\n",
    "\t# in bottom up manner using the base case 0 value\n",
    "\t# case (n = 0)\n",
    "\ttable = [[0 for x in range(m)] for x in range(n+1)]\n",
    "\n",
    "\t# Fill the entries for 0 value case (n = 0)\n",
    "\tfor i in range(m):\n",
    "\t\ttable[0][i] = 1\n",
    "\n",
    "\t# Fill rest of the table entries in bottom up manner\n",
    "\tfor i in range(1, n+1):\n",
    "\t\tfor j in range(m):\n",
    "\n",
    "\t\t\t# Count of solutions including S[j]\n",
    "\t\t\tx = table[i - S[j]][j] if i-S[j] >= 0 else 0\n",
    "\n",
    "\t\t\t# Count of solutions excluding S[j]\n",
    "\t\t\ty = table[i][j-1] if j >= 1 else 0\n",
    "\n",
    "\t\t\t# total count\n",
    "\t\t\ttable[i][j] = x + y\n",
    "\n",
    "\treturn table[n][m-1]\n",
    "\n",
    "# Driver program to test above function\n",
    "arr = [1, 2, 3]\n",
    "m = len(arr)\n",
    "n = 4\n",
    "print(count(arr, m, n))\n",
    "\n",
    "# This code is contributed by Bhavya Jain\n"
   ]
  },
  {
   "cell_type": "code",
   "execution_count": null,
   "id": "5aa4a7c0",
   "metadata": {},
   "outputs": [],
   "source": []
  }
 ],
 "metadata": {
  "kernelspec": {
   "display_name": "Python 3",
   "language": "python",
   "name": "python3"
  },
  "language_info": {
   "codemirror_mode": {
    "name": "ipython",
    "version": 3
   },
   "file_extension": ".py",
   "mimetype": "text/x-python",
   "name": "python",
   "nbconvert_exporter": "python",
   "pygments_lexer": "ipython3",
   "version": "3.8.8"
  }
 },
 "nbformat": 4,
 "nbformat_minor": 5
}
